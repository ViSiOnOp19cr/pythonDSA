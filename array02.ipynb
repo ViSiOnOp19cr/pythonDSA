{
 "cells": [
  {
   "cell_type": "code",
   "execution_count": 1,
   "metadata": {},
   "outputs": [
    {
     "name": "stdout",
     "output_type": "stream",
     "text": [
      "The unique element is: 6\n"
     ]
    }
   ],
   "source": [
    "#XOR operator (^) for finding unique elements\n",
    "def unique(arr,size):\n",
    "    ans = 0\n",
    "    for i in range(size):\n",
    "        ans = ans^arr[i]\n",
    "    return ans\n",
    "arr = [1,2,1,2,3,3,4,4,5,5,6]\n",
    "print(\"The unique element is:\",unique(arr,len(arr)))\n"
   ]
  },
  {
   "cell_type": "code",
   "execution_count": 7,
   "metadata": {},
   "outputs": [
    {
     "name": "stdout",
     "output_type": "stream",
     "text": [
      "Original array is : [0, 1, 0, 1, 1, 1, 1, 1, 0, 0, 0, 1, 0, 0, 1, 1, 1, 1, 0, 0]\n",
      "9\n",
      "11\n",
      "Sorted array [0, 1, 0, 1, 1, 1, 1, 1, 0, 0, 0, 1, 0, 0, 1, 1, 1, 1, 0, 0]\n"
     ]
    }
   ],
   "source": [
    "#function to sort zeros and ones\n",
    "def sorting(arr,n):\n",
    "    countzero = 0\n",
    "    countone = 0\n",
    "    for i in range(n):\n",
    "        if arr[i] == 1:\n",
    "            countone +=1\n",
    "        else:\n",
    "            countzero +=1\n",
    "    print(countzero)\n",
    "    print(countone)\n",
    "    index = 0\n",
    "    while(countzero):\n",
    "        arr[index] == 0\n",
    "        index +=1\n",
    "        countzero -=1\n",
    "    while(countone):\n",
    "        arr[index] == 1\n",
    "        index +=1\n",
    "        countone -=1\n",
    "    return arr\n",
    "    \n",
    "arr = [0,1,0,1,1,1,1,1,0,0,0,1,0,0,1,1,1,1,0,0]\n",
    "print(\"Original array is :\",arr)\n",
    "print(f\"Sorted array {sorting(arr,len(arr))}\")\n"
   ]
  },
  {
   "cell_type": "code",
   "execution_count": null,
   "metadata": {},
   "outputs": [],
   "source": []
  }
 ],
 "metadata": {
  "kernelspec": {
   "display_name": "Python 3",
   "language": "python",
   "name": "python3"
  },
  "language_info": {
   "codemirror_mode": {
    "name": "ipython",
    "version": 3
   },
   "file_extension": ".py",
   "mimetype": "text/x-python",
   "name": "python",
   "nbconvert_exporter": "python",
   "pygments_lexer": "ipython3",
   "version": "3.12.1"
  }
 },
 "nbformat": 4,
 "nbformat_minor": 2
}
