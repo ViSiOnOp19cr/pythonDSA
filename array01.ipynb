{
 "cells": [
  {
   "cell_type": "code",
   "execution_count": 13,
   "metadata": {},
   "outputs": [
    {
     "name": "stdout",
     "output_type": "stream",
     "text": [
      "The number is found  8\n",
      "number is not present\n"
     ]
    }
   ],
   "source": [
    "#linear search\n",
    "L1 = [1,2,3,4,5,6,7,8,9]\n",
    "target = 8\n",
    "n = len(L1)\n",
    "\n",
    "for i in range(n):\n",
    "    if target == L1[i]:\n",
    "        print(f\"The number is found  {L1[i]}\")\n",
    "    \n"
   ]
  },
  {
   "cell_type": "code",
   "execution_count": 21,
   "metadata": {},
   "outputs": [
    {
     "name": "stdout",
     "output_type": "stream",
     "text": [
      "the number is found at index 7\n"
     ]
    }
   ],
   "source": [
    "#alternative for linear search\n",
    "L1 = [1,2,3,4,5,6,7,8,9]\n",
    "target = 8\n",
    "n = len(L1)\n",
    "if target in L1:\n",
    "    print(f\"the number is found at index {L1.index(target)}\")\n",
    "else:\n",
    "    print(\"the target is not found in list\")"
   ]
  },
  {
   "cell_type": "code",
   "execution_count": 14,
   "metadata": {},
   "outputs": [
    {
     "name": "stdout",
     "output_type": "stream",
     "text": [
      "The minimum element is : 3\n"
     ]
    }
   ],
   "source": [
    "#finding min in an array\n",
    "def findmin(list1,size):\n",
    "    min = list1[0]\n",
    "    for i in range(n):\n",
    "        if list1[i] < min:\n",
    "            min = list1[i]\n",
    "    return min\n",
    "arr = [10,3,4,5,78,90,34,56,78,90,345,4,455,5,45,4,66,5,]\n",
    "size = len(arr)\n",
    "print(\"The minimum element is :\",findmin(arr,size))\n",
    "\n"
   ]
  },
  {
   "cell_type": "code",
   "execution_count": 15,
   "metadata": {},
   "outputs": [
    {
     "name": "stdout",
     "output_type": "stream",
     "text": [
      "minimun number is 3\n"
     ]
    }
   ],
   "source": [
    "#inbuilt method for finding minimun\n",
    "arr = [10,3,4,5,78,90,34,56,78,90,345,4,455,5,45,4,66,5,]\n",
    "\n",
    "print(\"minimun number is\", min(arr))"
   ]
  },
  {
   "cell_type": "code",
   "execution_count": 16,
   "metadata": {},
   "outputs": [
    {
     "name": "stdout",
     "output_type": "stream",
     "text": [
      "The maximun element is : 90\n"
     ]
    }
   ],
   "source": [
    "#finding max in an array\n",
    "def findmin(list1,size):\n",
    "    max = list1[0]\n",
    "    for i in range(n):\n",
    "        if list1[i] > max:\n",
    "            max = list1[i]\n",
    "    return max\n",
    "arr = [10,3,4,5,78,90,34,56,78,90,345,4,455,5,45,4,66,5,]\n",
    "size = len(arr)\n",
    "print(\"The maximun element is :\",findmin(arr,size))"
   ]
  },
  {
   "cell_type": "code",
   "execution_count": 17,
   "metadata": {},
   "outputs": [
    {
     "name": "stdout",
     "output_type": "stream",
     "text": [
      "maximun number is 455\n"
     ]
    }
   ],
   "source": [
    "#inbuilt function for max of array\n",
    "arr = [10,3,4,5,78,90,34,56,78,90,345,4,455,5,45,4,66,5,]\n",
    "print(\"maximun number is\",max(arr))"
   ]
  },
  {
   "cell_type": "code",
   "execution_count": 22,
   "metadata": {},
   "outputs": [
    {
     "name": "stdout",
     "output_type": "stream",
     "text": [
      "original array is [10, 3, 4, 5, 78, 90, 34, 56, 78, 90, 345, 4, 455, 5, 45, 4, 66, 5]\n",
      "the array after reversing is [5, 66, 4, 45, 5, 455, 4, 345, 90, 78, 56, 34, 90, 78, 5, 4, 3, 10]\n"
     ]
    }
   ],
   "source": [
    "#reversing an array\n",
    "def reverse_array(arr,size):\n",
    "    left = 0\n",
    "    right = size - 1\n",
    "    while (left<=right):\n",
    "        arr[left],arr[right] = arr[right],arr[left]\n",
    "        left += 1 #increment left\n",
    "        right -= 1 #decrement right\n",
    "    return arr\n",
    "arr = [10,3,4,5,78,90,34,56,78,90,345,4,455,5,45,4,66,5,]\n",
    "n = len(arr)\n",
    "print(f\"original array is {arr}\")\n",
    "\n",
    "print(f\"the array after reversing is {reverse_array(arr,n)}\")\n",
    "\n"
   ]
  },
  {
   "cell_type": "code",
   "execution_count": 4,
   "metadata": {},
   "outputs": [
    {
     "name": "stdout",
     "output_type": "stream",
     "text": [
      "Original Array: [10, 3, 4, 5, 78, 90, 34, 56, 78, 90, 345, 4, 455, 5, 45, 4, 66, 5]\n",
      "\n",
      "Reversed Array:  [5, 66, 4, 45, 5, 455, 4, 345, 90, 78, 56, 34, 90, 78, 5, 4, 3, 10]\n"
     ]
    }
   ],
   "source": [
    "#inbuilt function for reversing an array\n",
    "arr = [10,3,4,5,78,90,34,56,78,90,345,4,455,5,45,4,66,5,]\n",
    "print(\"Original Array:\", arr)\n",
    "arr.reverse()\n",
    "print(\"\\nReversed Array: \", arr)\n"
   ]
  },
  {
   "cell_type": "code",
   "execution_count": 5,
   "metadata": {},
   "outputs": [
    {
     "data": {
      "text/plain": [
       "[5, 66, 4, 45, 5, 455, 4, 345, 90, 78, 56, 34, 90, 78, 5, 4, 3, 10]"
      ]
     },
     "execution_count": 5,
     "metadata": {},
     "output_type": "execute_result"
    }
   ],
   "source": []
  },
  {
   "cell_type": "code",
   "execution_count": null,
   "metadata": {},
   "outputs": [],
   "source": []
  }
 ],
 "metadata": {
  "kernelspec": {
   "display_name": "Python 3",
   "language": "python",
   "name": "python3"
  },
  "language_info": {
   "codemirror_mode": {
    "name": "ipython",
    "version": 3
   },
   "file_extension": ".py",
   "mimetype": "text/x-python",
   "name": "python",
   "nbconvert_exporter": "python",
   "pygments_lexer": "ipython3",
   "version": "3.12.1"
  }
 },
 "nbformat": 4,
 "nbformat_minor": 2
}
